{
 "cells": [
  {
   "cell_type": "markdown",
   "id": "6dd6c977-9813-4d5b-907b-0e2bd3f04316",
   "metadata": {},
   "source": [
    "# To Do Exercises"
   ]
  },
  {
   "cell_type": "markdown",
   "id": "93f7715f-71e9-45b6-bd78-f2b637bbdd18",
   "metadata": {},
   "source": [
    "## Challenge 1: Implement FizzBuzz"
   ]
  },
  {
   "cell_type": "code",
   "execution_count": 62,
   "id": "556ebb60-0a5b-4f9f-b10a-abf8b303bf51",
   "metadata": {},
   "outputs": [
    {
     "name": "stdin",
     "output_type": "stream",
     "text": [
      "Enter a number: 9\n"
     ]
    },
    {
     "name": "stdout",
     "output_type": "stream",
     "text": [
      "[1, 2, 'Fizz', 4, 'Buzz', 'Fizz', 7, 8, 'Fizz']\n"
     ]
    }
   ],
   "source": [
    "n = int(input(\"Enter a number:\"))\n",
    "\n",
    "\"\"\"\n",
    "for i in range(1,n+1):\n",
    "    if (i%3==0 and i%5==0):\n",
    "        print(\"FizzBuzz\")\n",
    "    elif (i%5==0):\n",
    "        print(\"Buzz\")\n",
    "    elif (i%3==0):\n",
    "        print(\"Fizz\")\n",
    "    else:\n",
    "        print(i)\n",
    "\"\"\"\n",
    "\n",
    "answer=list()\n",
    "for i in range(1,n+1):\n",
    "    if (i%3==0 and i%5==0):\n",
    "        answer.append(\"FizzBuzz\")\n",
    "    elif (i%3==0):\n",
    "        answer.append(\"Fizz\")\n",
    "    elif (i%5==0):\n",
    "        answer.append(\"Buzz\")\n",
    "    else:\n",
    "        answer.append(i)\n",
    "print(answer)"
   ]
  },
  {
   "cell_type": "markdown",
   "id": "8bd0e53d-1bfb-4e41-ad2f-d3e1e971b9de",
   "metadata": {},
   "source": [
    "## Challenge 2: Check if a string is a palindrome"
   ]
  },
  {
   "cell_type": "code",
   "execution_count": 1,
   "id": "cd9f4de8-06e7-4792-ae52-80b772ddc37c",
   "metadata": {},
   "outputs": [
    {
     "name": "stdin",
     "output_type": "stream",
     "text": [
      "Enter the string:  banana\n"
     ]
    },
    {
     "name": "stdout",
     "output_type": "stream",
     "text": [
      "banana\n"
     ]
    }
   ],
   "source": [
    "str= input(\"Enter the string: \")\n",
    "print(str)"
   ]
  },
  {
   "cell_type": "code",
   "execution_count": 2,
   "id": "2e8d8a16-66ca-4aee-a805-ab4c88d7fc77",
   "metadata": {},
   "outputs": [
    {
     "name": "stdout",
     "output_type": "stream",
     "text": [
      "banana is not palindrome\n"
     ]
    }
   ],
   "source": [
    "i=0\n",
    "j=len(str)-1\n",
    "\n",
    "is_palindrome= True\n",
    "while i<j:\n",
    "    if str[i]!=str[j]:\n",
    "        is_palindrome=False\n",
    "        break\n",
    "    i+=1\n",
    "    j-=1\n",
    "\n",
    "if is_palindrome:\n",
    "    print(f'{str} is palindrome')\n",
    "else:\n",
    "    print(f'{str} is not palindrome')"
   ]
  },
  {
   "cell_type": "markdown",
   "id": "f15e45f8-7b10-44fd-9d69-effdc3ace5cb",
   "metadata": {},
   "source": [
    "## Challenge 3: Calculate factorial of a number (iterative and recursive)"
   ]
  },
  {
   "cell_type": "code",
   "execution_count": 9,
   "id": "da3d7fe5-ab2a-4df0-b9ec-62e6c09c74ef",
   "metadata": {},
   "outputs": [
    {
     "name": "stdin",
     "output_type": "stream",
     "text": [
      "Enter a number: 5\n"
     ]
    },
    {
     "name": "stdout",
     "output_type": "stream",
     "text": [
      "Factorial of 5 is 120\n"
     ]
    },
    {
     "data": {
      "text/plain": [
       "120"
      ]
     },
     "execution_count": 9,
     "metadata": {},
     "output_type": "execute_result"
    }
   ],
   "source": [
    "# Itreative\n",
    "\n",
    "num = input(\"Enter a number:\")\n",
    "num = int(num)\n",
    "fact = 1\n",
    "\n",
    "if num<0:\n",
    "    print(\"Invalid number\")\n",
    "elif (num==0 or num==1):\n",
    "    print(f'Factorial of {num} is {fact}')\n",
    "else:\n",
    "    for i in range(1,num+1):\n",
    "        fact*=i\n",
    "    print(f'Factorial of {num} is {fact}')\n",
    "\n",
    "\n",
    "# Recursive\n",
    "\n",
    "def factorial(n):\n",
    "    if(n==0 or n==1):\n",
    "        return 1\n",
    "    return n*factorial(n-1)\n",
    "\n",
    "factorial(num)"
   ]
  },
  {
   "cell_type": "markdown",
   "id": "dd24896e-61f7-4449-8c71-e648dc2695bc",
   "metadata": {},
   "source": [
    "## Challenge 4: Reverse a string/list without built-in functions"
   ]
  },
  {
   "cell_type": "code",
   "execution_count": 67,
   "id": "3ff2e7c3-5694-402f-b6e0-da6d5bb1e391",
   "metadata": {},
   "outputs": [
    {
     "name": "stdin",
     "output_type": "stream",
     "text": [
      "Enter the string:  fdff\n"
     ]
    },
    {
     "name": "stdout",
     "output_type": "stream",
     "text": [
      "ffdf\n",
      "[10, 9, 4, 2, 1]\n"
     ]
    }
   ],
   "source": [
    "# Reverse a string\n",
    "str= input(\"Enter the string: \")\n",
    "reverse_string=str[::-1]\n",
    "print(reverse_string)\n",
    "\n",
    "\n",
    "# Reverse a list\n",
    "nums=[1,2,4,9,10]\n",
    "reverse_list=[]\n",
    "\n",
    "'''\n",
    "for item in nums:\n",
    "   reverse_list.insert(0, item)\n",
    "'''\n",
    "\n",
    "for i in range(len(nums)-1,-1,-1):\n",
    "    reverse_list.append(nums[i])\n",
    "print(reverse_list)"
   ]
  },
  {
   "cell_type": "markdown",
   "id": "89d250c8-caa0-44a6-ab7b-34044bee7834",
   "metadata": {},
   "source": [
    "## Challenge 5: Find the largest/smallest element in a list."
   ]
  },
  {
   "cell_type": "code",
   "execution_count": 15,
   "id": "926304a7-0c8b-4340-b105-550cac592015",
   "metadata": {},
   "outputs": [
    {
     "name": "stdout",
     "output_type": "stream",
     "text": [
      "2\n",
      "10\n"
     ]
    }
   ],
   "source": [
    "nums=[2,6,7,8,10,4]\n",
    "largest=float('-inf')\n",
    "smallest=float('inf')\n",
    "\n",
    "for i in range(0,len(nums)-1):\n",
    "    if nums[i]>largest:\n",
    "        largest=nums[i]\n",
    "\n",
    "for i in range(0,len(nums)-1):\n",
    "    if nums[i]<smallest:\n",
    "        smallest=nums[i]\n",
    "\n",
    "print(smallest)\n",
    "print(largest)"
   ]
  },
  {
   "cell_type": "markdown",
   "id": "e90ad647-c2b2-4d6a-8231-783951933f44",
   "metadata": {},
   "source": [
    "## Challenge 6: Implement a simple calculator"
   ]
  },
  {
   "cell_type": "code",
   "execution_count": 33,
   "id": "0b054380-ac16-471a-aa8d-7c5cc11c655f",
   "metadata": {},
   "outputs": [
    {
     "name": "stdin",
     "output_type": "stream",
     "text": [
      "Enter first number: 2\n",
      "Enter second number: 3\n",
      "Enter operator: *\n"
     ]
    },
    {
     "name": "stdout",
     "output_type": "stream",
     "text": [
      "6\n"
     ]
    }
   ],
   "source": [
    "num1 = int(input(\"Enter first number:\"))\n",
    "num2 = int(input(\"Enter second number:\"))\n",
    "\n",
    "operator=input(\"Enter operator:\")\n",
    "\n",
    "match operator:\n",
    "    case '+': \n",
    "        print(num1+num2)\n",
    "    case '*': \n",
    "        print(num1*num2)\n",
    "    case '/': \n",
    "        print(num1/num2)\n",
    "    case '-': \n",
    "        print(num1-num2)\n",
    "    case '**': \n",
    "        print(num1**num2)\n",
    "    case '%': \n",
    "        print(num1%num2)\n"
   ]
  },
  {
   "cell_type": "code",
   "execution_count": null,
   "id": "4a2f4499-5938-41e3-9a14-0a738dc3656c",
   "metadata": {},
   "outputs": [],
   "source": []
  }
 ],
 "metadata": {
  "kernelspec": {
   "display_name": "Python [conda env:base] *",
   "language": "python",
   "name": "conda-base-py"
  },
  "language_info": {
   "codemirror_mode": {
    "name": "ipython",
    "version": 3
   },
   "file_extension": ".py",
   "mimetype": "text/x-python",
   "name": "python",
   "nbconvert_exporter": "python",
   "pygments_lexer": "ipython3",
   "version": "3.13.5"
  }
 },
 "nbformat": 4,
 "nbformat_minor": 5
}
