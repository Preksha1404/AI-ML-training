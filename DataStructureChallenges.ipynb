{
 "cells": [
  {
   "cell_type": "markdown",
   "id": "aa6c4333-a2af-4b22-9d64-a6ab5987873e",
   "metadata": {},
   "source": [
    "## Data Structure Challenges\n",
    "## 1. Count frequency of elements in a list/string using dictionaries\n",
    "## 2. Remove duplicates from a list\n",
    "## 3. Merge two sorted lists"
   ]
  }
 ],
 "metadata": {
  "kernelspec": {
   "display_name": "Python [conda env:base] *",
   "language": "python",
   "name": "conda-base-py"
  },
  "language_info": {
   "codemirror_mode": {
    "name": "ipython",
    "version": 3
   },
   "file_extension": ".py",
   "mimetype": "text/x-python",
   "name": "python",
   "nbconvert_exporter": "python",
   "pygments_lexer": "ipython3",
   "version": "3.13.5"
  }
 },
 "nbformat": 4,
 "nbformat_minor": 5
}
