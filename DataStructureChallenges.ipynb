{
 "cells": [
  {
   "cell_type": "markdown",
   "id": "aa6c4333-a2af-4b22-9d64-a6ab5987873e",
   "metadata": {},
   "source": [
    "## Data Structure Challenges\n",
    "## 1. Count frequency of elements in a list/string using dictionaries\n",
    "## 2. Remove duplicates from a list\n",
    "## 3. Merge two sorted lists"
   ]
  },
  {
   "cell_type": "markdown",
   "id": "067409a3-fccd-4db0-82bd-f980b79f6a82",
   "metadata": {},
   "source": []
  },
  {
   "cell_type": "markdown",
   "id": "8a72c032-9bc7-4d6f-bc4c-5f19b4d55330",
   "metadata": {},
   "source": [
    "## 1. Count frequency of elements in a list/string using dictionaries"
   ]
  },
  {
   "cell_type": "code",
   "execution_count": 1,
   "id": "540845ea-cc7b-4345-a09f-6abbf6c94f83",
   "metadata": {},
   "outputs": [
    {
     "name": "stdout",
     "output_type": "stream",
     "text": [
      "{1: 2, 2: 1, 5: 1, 8: 1, 10: 1, 12: 3}\n",
      "{'H': 1, 'e': 1, 'l': 3, 'o': 2, ' ': 4, 'w': 1, 'r': 1, 'd': 1}\n"
     ]
    }
   ],
   "source": [
    "# Frequency of elements in a list\n",
    "numbers=[1,1,2,5,8,10,12,12,12]\n",
    "n=len(numbers)\n",
    "answer={}\n",
    "\n",
    "for i in range(n):\n",
    "    if numbers[i] in answer:\n",
    "        answer[numbers[i]] += 1\n",
    "    else:\n",
    "        answer[numbers[i]] = 1\n",
    "print(answer)\n",
    "\n",
    "## Frequency of elements in a string\n",
    "str=\"Hello world   \"\n",
    "n=len(str)\n",
    "result=dict()\n",
    "\n",
    "for i in range(n):\n",
    "    if str[i] in result:\n",
    "        result[str[i]] += 1\n",
    "    else:\n",
    "        result[str[i]] = 1\n",
    "print(result)"
   ]
  },
  {
   "cell_type": "markdown",
   "id": "daf30bc9",
   "metadata": {},
   "source": [
    "## 2. Remove duplicates from a list"
   ]
  },
  {
   "cell_type": "code",
   "execution_count": 2,
   "id": "f0d0a03a",
   "metadata": {},
   "outputs": [
    {
     "data": {
      "text/plain": [
       "[1, 2, 5, 8, 10, 12]"
      ]
     },
     "execution_count": 2,
     "metadata": {},
     "output_type": "execute_result"
    }
   ],
   "source": [
    "numbers=[1,1,2,5,8,10,12,12,12] \n",
    "n=len(numbers) \n",
    "count=1\n",
    "answer= []\n",
    "\n",
    "for val in numbers:\n",
    "    if val not in answer:\n",
    "        answer.append(val)\n",
    "answer"
   ]
  }
 ],
 "metadata": {
  "kernelspec": {
   "display_name": "Python [conda env:base] *",
   "language": "python",
   "name": "conda-base-py"
  },
  "language_info": {
   "codemirror_mode": {
    "name": "ipython",
    "version": 3
   },
   "file_extension": ".py",
   "mimetype": "text/x-python",
   "name": "python",
   "nbconvert_exporter": "python",
   "pygments_lexer": "ipython3",
   "version": "3.13.5"
  }
 },
 "nbformat": 4,
 "nbformat_minor": 5
}
