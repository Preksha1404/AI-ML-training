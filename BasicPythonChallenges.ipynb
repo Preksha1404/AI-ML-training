{
 "cells": [
  {
   "cell_type": "markdown",
   "id": "6dd6c977-9813-4d5b-907b-0e2bd3f04316",
   "metadata": {},
   "source": [
    "# To Do Exercises"
   ]
  },
  {
   "cell_type": "markdown",
   "id": "93f7715f-71e9-45b6-bd78-f2b637bbdd18",
   "metadata": {},
   "source": [
    "## Challenge 1: Implement FizzBuzz\n",
    "## Challenge 2: Check if a string is a palindrome\n",
    "## Challenge 3: Calculate factorial of a number (iterative and recursive)\n",
    "## Challenge 4: Reverse a string/list without built-in functions\n",
    "## Challenge 5: Find the largest/smallest element in a list\n",
    "## Challenge 6: Implement a simple calculator"
   ]
  },
  {
   "cell_type": "code",
   "execution_count": 1,
   "id": "0b80c48b",
   "metadata": {},
   "outputs": [
    {
     "name": "stdout",
     "output_type": "stream",
     "text": [
      "[1, 2, 'Fizz', 4, 'Buzz', 'Fizz', 7, 8, 'Fizz', 'Buzz']\n"
     ]
    }
   ],
   "source": [
    "n = int(input(\"Enter a number:\"))\n",
    "\n",
    "\"\"\"\n",
    "for i in range(1,n+1):\n",
    "    if (i%3==0 and i%5==0):\n",
    "        print(\"FizzBuzz\")\n",
    "    elif (i%5==0):\n",
    "        print(\"Buzz\")\n",
    "    elif (i%3==0):\n",
    "        print(\"Fizz\")\n",
    "    else:\n",
    "        print(i)\n",
    "\"\"\"\n",
    "\n",
    "answer=list()\n",
    "for i in range(1,n+1):\n",
    "    if (i%3==0 and i%5==0):\n",
    "        answer.append(\"FizzBuzz\")\n",
    "    elif (i%3==0):\n",
    "        answer.append(\"Fizz\")\n",
    "    elif (i%5==0):\n",
    "        answer.append(\"Buzz\")\n",
    "    else:\n",
    "        answer.append(i)\n",
    "print(answer)"
   ]
  }
 ],
 "metadata": {
  "kernelspec": {
   "display_name": "Python [conda env:base] *",
   "language": "python",
   "name": "conda-base-py"
  },
  "language_info": {
   "codemirror_mode": {
    "name": "ipython",
    "version": 3
   },
   "file_extension": ".py",
   "mimetype": "text/x-python",
   "name": "python",
   "nbconvert_exporter": "python",
   "pygments_lexer": "ipython3",
   "version": "3.13.5"
  }
 },
 "nbformat": 4,
 "nbformat_minor": 5
}
