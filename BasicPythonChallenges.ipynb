{
 "cells": [
  {
   "cell_type": "markdown",
   "id": "6dd6c977-9813-4d5b-907b-0e2bd3f04316",
   "metadata": {},
   "source": [
    "# To Do Exercises"
   ]
  },
  {
   "cell_type": "markdown",
   "id": "93f7715f-71e9-45b6-bd78-f2b637bbdd18",
   "metadata": {},
   "source": [
    "## Challenge 1: Implement FizzBuzz\n",
    "## Challenge 2: Check if a string is a palindrome\n",
    "## Challenge 3: Calculate factorial of a number (iterative and recursive)\n",
    "## Challenge 4: Reverse a string/list without built-in functions\n",
    "## Challenge 5: Find the largest/smallest element in a list\n",
    "## Challenge 6: Implement a simple calculator"
   ]
  },
  {
   "cell_type": "code",
   "execution_count": 1,
   "id": "0b80c48b",
   "metadata": {},
   "outputs": [
    {
     "name": "stdout",
     "output_type": "stream",
     "text": [
      "[1, 2, 'Fizz', 4, 'Buzz', 'Fizz', 7, 8, 'Fizz', 'Buzz']\n"
     ]
    }
   ],
   "source": [
    "n = int(input(\"Enter a number:\"))\n",
    "\n",
    "\"\"\"\n",
    "for i in range(1,n+1):\n",
    "    if (i%3==0 and i%5==0):\n",
    "        print(\"FizzBuzz\")\n",
    "    elif (i%5==0):\n",
    "        print(\"Buzz\")\n",
    "    elif (i%3==0):\n",
    "        print(\"Fizz\")\n",
    "    else:\n",
    "        print(i)\n",
    "\"\"\"\n",
    "\n",
    "answer=list()\n",
    "for i in range(1,n+1):\n",
    "    if (i%3==0 and i%5==0):\n",
    "        answer.append(\"FizzBuzz\")\n",
    "    elif (i%3==0):\n",
    "        answer.append(\"Fizz\")\n",
    "    elif (i%5==0):\n",
    "        answer.append(\"Buzz\")\n",
    "    else:\n",
    "        answer.append(i)\n",
    "print(answer)"
   ]
  },
  {
   "cell_type": "markdown",
   "id": "ab03fa3d",
   "metadata": {},
   "source": [
    "## Challenge 2: Check if a string is a palindrome"
   ]
  },
  {
   "cell_type": "code",
   "execution_count": 3,
   "id": "51214ef6",
   "metadata": {},
   "outputs": [
    {
     "name": "stdout",
     "output_type": "stream",
     "text": [
      "hello\n",
      "hello is not palindrome\n"
     ]
    }
   ],
   "source": [
    "str= input(\"Enter the string: \")\n",
    "print(str)\n",
    "i=0\n",
    "j=len(str)-1\n",
    "\n",
    "is_palindrome= True\n",
    "while i<j:\n",
    "    if str[i]!=str[j]:\n",
    "        is_palindrome=False\n",
    "        break\n",
    "    i+=1\n",
    "    j-=1\n",
    "\n",
    "if is_palindrome:\n",
    "    print(f'{str} is palindrome')\n",
    "else:\n",
    "    print(f'{str} is not palindrome')"
   ]
  },
  {
   "cell_type": "markdown",
   "id": "530046c8",
   "metadata": {},
   "source": [
    "## Challenge 3: Calculate factorial of a number (iterative and recursive)"
   ]
  },
  {
   "cell_type": "code",
   "execution_count": 6,
   "id": "90f8ed37",
   "metadata": {},
   "outputs": [
    {
     "name": "stdout",
     "output_type": "stream",
     "text": [
      "Factorial of 11 is 39916800\n"
     ]
    },
    {
     "data": {
      "text/plain": [
       "39916800"
      ]
     },
     "execution_count": 6,
     "metadata": {},
     "output_type": "execute_result"
    }
   ],
   "source": [
    "# Itreative\n",
    "\n",
    "num = input(\"Enter a number:\")\n",
    "num = int(num)\n",
    "fact = 1\n",
    "\n",
    "if num<0:\n",
    "    print(\"Invalid number\")\n",
    "elif (num==0 or num==1):\n",
    "    print(f'Factorial of {num} is {fact}')\n",
    "else:\n",
    "    for i in range(1,num+1):\n",
    "        fact*=i\n",
    "    print(f'Factorial of {num} is {fact}')\n",
    "\n",
    "\n",
    "# Recursive\n",
    "\n",
    "def factorial(n):\n",
    "    if(n==0 or n==1):\n",
    "        return 1\n",
    "    return n*factorial(n-1)\n",
    "\n",
    "factorial(num)"
   ]
  }
 ],
 "metadata": {
  "kernelspec": {
   "display_name": "Python [conda env:base] *",
   "language": "python",
   "name": "conda-base-py"
  },
  "language_info": {
   "codemirror_mode": {
    "name": "ipython",
    "version": 3
   },
   "file_extension": ".py",
   "mimetype": "text/x-python",
   "name": "python",
   "nbconvert_exporter": "python",
   "pygments_lexer": "ipython3",
   "version": "3.13.5"
  }
 },
 "nbformat": 4,
 "nbformat_minor": 5
}
