{
 "cells": [
  {
   "cell_type": "markdown",
   "id": "6dd6c977-9813-4d5b-907b-0e2bd3f04316",
   "metadata": {},
   "source": [
    "# To Do Exercises"
   ]
  },
  {
   "cell_type": "markdown",
   "id": "93f7715f-71e9-45b6-bd78-f2b637bbdd18",
   "metadata": {},
   "source": [
    "## Challenge 1: Implement FizzBuzz\n",
    "## Challenge 2: Check if a string is a palindrome\n",
    "## Challenge 4: Reverse a string/list without built-in functions\n",
    "## Challenge 5: Find the largest/smallest element in a list.\n",
    "## Challenge 6: Implement a simple calculator"
   ]
  }
 ],
 "metadata": {
  "kernelspec": {
   "display_name": "Python [conda env:base] *",
   "language": "python",
   "name": "conda-base-py"
  },
  "language_info": {
   "codemirror_mode": {
    "name": "ipython",
    "version": 3
   },
   "file_extension": ".py",
   "mimetype": "text/x-python",
   "name": "python",
   "nbconvert_exporter": "python",
   "pygments_lexer": "ipython3",
   "version": "3.13.5"
  }
 },
 "nbformat": 4,
 "nbformat_minor": 5
}
