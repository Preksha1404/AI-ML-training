{
 "cells": [
  {
   "cell_type": "code",
   "execution_count": 1,
   "id": "38132927-4acc-4cfe-abd2-eb99ecdb7863",
   "metadata": {},
   "outputs": [
    {
     "name": "stdout",
     "output_type": "stream",
     "text": [
      "10\n",
      "demo class\n"
     ]
    }
   ],
   "source": [
    "class demo:\n",
    "    x=10\n",
    "    str=\"demo class\"\n",
    "\n",
    "obj=demo()\n",
    "\n",
    "print(obj.x)\n",
    "print(obj.str)"
   ]
  },
  {
   "cell_type": "code",
   "execution_count": 2,
   "id": "44f80325-455d-4d73-955e-3375fcb44ad6",
   "metadata": {},
   "outputs": [
    {
     "name": "stdout",
     "output_type": "stream",
     "text": [
      "10\n",
      "Hello world\n"
     ]
    }
   ],
   "source": [
    "# __init__ method --> To initialize values to object properties when class is intialized\n",
    "class demo:\n",
    "    def __init__(self,x,str):\n",
    "        self.x=x\n",
    "        self.str=str\n",
    "\n",
    "obj=demo(10,\"Hello world\")\n",
    "\n",
    "print(obj.x)\n",
    "print(obj.str)"
   ]
  },
  {
   "cell_type": "code",
   "execution_count": 3,
   "id": "911613a9-645f-4180-8fbb-2d18905460a8",
   "metadata": {},
   "outputs": [
    {
     "name": "stdout",
     "output_type": "stream",
     "text": [
      "10 and Hello world\n"
     ]
    }
   ],
   "source": [
    "# __str__ method --> What should object return when object is represented as string\n",
    "'''\n",
    "class demo:\n",
    "    def __init__(self,x,str):\n",
    "        self.x=x\n",
    "        self.str=str\n",
    "\n",
    "obj=demo(10,\"Hello world\")\n",
    "\n",
    "print(obj)\n",
    "'''\n",
    "\n",
    "class demo:\n",
    "    def __init__(self,x,str):\n",
    "        self.x=x\n",
    "        self.str=str\n",
    "\n",
    "    def __str__(self):\n",
    "        return f\"{self.x} and {self.str}\"\n",
    "        \n",
    "obj=demo(10,\"Hello world\")\n",
    "\n",
    "print(obj)"
   ]
  },
  {
   "cell_type": "code",
   "execution_count": 4,
   "id": "695f8a6d-066b-4974-8654-34a5f0c2e95f",
   "metadata": {},
   "outputs": [
    {
     "name": "stdout",
     "output_type": "stream",
     "text": [
      "First string is Hello world\n"
     ]
    }
   ],
   "source": [
    "# Class methods\n",
    "class demo:\n",
    "    def __init__(self,x,str):\n",
    "        self.x=x\n",
    "        self.str=str\n",
    "\n",
    "    def __str__(self):\n",
    "        return f\"{self.x} and {self.str}\"\n",
    "\n",
    "    def displayText(self):\n",
    "        print(\"First string is \" + self.str)\n",
    "        \n",
    "obj=demo(10,\"Hello world\")\n",
    "obj.displayText()"
   ]
  },
  {
   "cell_type": "code",
   "execution_count": 5,
   "id": "e3c1867c-110c-4670-8f45-6cc4e1e203a5",
   "metadata": {},
   "outputs": [],
   "source": [
    "# self parameter is a reference to the current instance of the class, and is used to access variables that belong to the class"
   ]
  },
  {
   "cell_type": "code",
   "execution_count": 6,
   "id": "4841c039-4bc1-41d6-b101-fe9137535b0b",
   "metadata": {},
   "outputs": [
    {
     "name": "stdout",
     "output_type": "stream",
     "text": [
      "John Doe\n",
      "Preksha Rana\n"
     ]
    }
   ],
   "source": [
    "# Inheritance\n",
    "class Person:\n",
    "  def __init__(self, fname, lname):\n",
    "    self.firstname = fname\n",
    "    self.lastname = lname\n",
    "\n",
    "  def printname(self):\n",
    "    print(self.firstname, self.lastname)\n",
    "\n",
    "x = Person(\"John\", \"Doe\")\n",
    "x.printname()\n",
    "\n",
    "class Student(Person):\n",
    "  pass\n",
    "\n",
    "y=Student(\"Preksha\",\"Rana\")\n",
    "y.printname()"
   ]
  },
  {
   "cell_type": "code",
   "execution_count": 7,
   "id": "70a4b71d-9261-4eb4-94c2-e1c63bb95ba1",
   "metadata": {},
   "outputs": [
    {
     "name": "stdout",
     "output_type": "stream",
     "text": [
      "John Doe\n",
      "Preksha\n"
     ]
    }
   ],
   "source": [
    "class Person:\n",
    "  def __init__(self, fname, lname):\n",
    "    self.firstname = fname\n",
    "    self.lastname = lname\n",
    "\n",
    "  def printname(self):\n",
    "    print(self.firstname, self.lastname)\n",
    "\n",
    "x = Person(\"John\", \"Doe\")\n",
    "x.printname()\n",
    "\n",
    "class Student(Person):\n",
    "  def __init__(self,fname):\n",
    "      self.fname=fname\n",
    "      \n",
    "  def printname(self):\n",
    "    print(self.fname)\n",
    "\n",
    "y=Student(\"Preksha\")\n",
    "y.printname()"
   ]
  },
  {
   "cell_type": "markdown",
   "id": "c40b6ac1-0d67-495f-bde5-9f9a8eaad677",
   "metadata": {},
   "source": [
    "## Design a simple Book class with attributes (title, author, ISBN) and methods (display info)"
   ]
  },
  {
   "cell_type": "code",
   "execution_count": 9,
   "id": "852ed083-9f5d-486e-ad22-be8f669f29bd",
   "metadata": {},
   "outputs": [
    {
     "name": "stdout",
     "output_type": "stream",
     "text": [
      "The Changing World Order\n",
      "Ray Dalio\n",
      "978156694\n",
      "The Alchemist\n",
      "Paulo Coelho\n",
      "978156694\n",
      "The Alchemist\n",
      "Paulo Coelho\n",
      "938892029\n"
     ]
    }
   ],
   "source": [
    "class Book:\n",
    "    def __init__(self, title, author, ISBN):\n",
    "       self.title = title\n",
    "       self.author = author\n",
    "       self.ISBN = ISBN\n",
    "\n",
    "    def displayInfo(self):\n",
    "        print(self.title)\n",
    "        print(self.author)\n",
    "        print(self.ISBN)\n",
    "\n",
    "book1=Book(\"The Changing World Order\",\"Ray Dalio\",978156694)\n",
    "book1.displayInfo()\n",
    "\n",
    "book2=Book(\"The Alchemist\",\"Paulo Coelho\",978156694)\n",
    "book2.displayInfo()\n",
    "\n",
    "# Update property value\n",
    "book2.ISBN=938892029\n",
    "book2.displayInfo()"
   ]
  }
 ],
 "metadata": {
  "kernelspec": {
   "display_name": "Python [conda env:base] *",
   "language": "python",
   "name": "conda-base-py"
  },
  "language_info": {
   "codemirror_mode": {
    "name": "ipython",
    "version": 3
   },
   "file_extension": ".py",
   "mimetype": "text/x-python",
   "name": "python",
   "nbconvert_exporter": "python",
   "pygments_lexer": "ipython3",
   "version": "3.13.5"
  }
 },
 "nbformat": 4,
 "nbformat_minor": 5
}
